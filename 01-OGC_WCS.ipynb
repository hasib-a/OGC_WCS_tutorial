{
 "cells": [
  {
   "cell_type": "markdown",
   "metadata": {},
   "source": [
    "# 01-Introduction to web services and OGC WCS"
   ]
  },
  {
   "cell_type": "markdown",
   "metadata": {},
   "source": [
    "<a href=\"./index.ipynb\"><< Index</a>&nbsp;<space>&nbsp;<space>&nbsp;<space>&nbsp;<space>&nbsp;<space>&nbsp;<space>&nbsp;<space>&nbsp;<space>&nbsp;<space>&nbsp;<space> <a href=\"./02-WCS_core_requests.ipynb\">02-WCS core requests >></a>"
   ]
  },
  {
   "cell_type": "markdown",
   "metadata": {},
   "source": [
    "## Why do we need web services?"
   ]
  },
  {
   "cell_type": "markdown",
   "metadata": {},
   "source": [
    "Earth Science data have complex data structures. They are often multi-dimensional gridded fields that need extensive processing to retrieve meaningful and communicable information for users and decision-makers. With advances in processing power, the spatial resolution of Earth Science data is more and more refined, which leads to an increase in detail, but at the same time also to larger data volumes.\n",
    "\n",
    "The European Centre for Medium-Range Weather Forecasts (ECMWF) for example operates the Meteorological Archive and Retrieval System (MARS), the world's largest archive of meteorological data, which holds at the beginning of 2016 ~ 90 PB of data and it continues growing by additional ~3 PB per month.  \n",
    "\n",
    "Transport of petabytes (even terabytes) of raw data is costly and should be avoided. The challenge for data providers is to provide access to the full range of data and information while minimising the need to download the data. Ideally, data access and processing is performed on server-side and only kilobytes of refined information are downloaded (see Figure below).\n",
    "\n",
    "Web services offer a variety of standard protocols that use the internet to view, access and retrieve geospatial data. Especially **standard data-access protocols**, such as Web Coverage Service, help to access the full range of raw data and allow the retrieval of refined information.\n",
    "\n",
    "![dikw_pyramid](img/dikw_pyramide_small_2.png \"From raw data to information and knowledge\")\n",
    "  \n",
    "\n",
    "  \n",
    "<center><i>Data, information, knowledge hierarchy - How raw data is turned into value-added information   \n",
    "and knowledge for users and decision-makers and the role of data providers in the hierarchy</i></center> \n",
    "\n",
    "***"
   ]
  },
  {
   "cell_type": "markdown",
   "metadata": {},
   "source": [
    "## <a id='webservice'></a>How does a web service work?"
   ]
  },
  {
   "cell_type": "markdown",
   "metadata": {},
   "source": [
    "Web services consist of **four components**:\n",
    "   * the **service** itself, that processes the request made by the client \n",
    "   * a **server** that stores the data and information\n",
    "   * a **client**, which is an application that is using the web service, and\n",
    "   * the **internet**, that transfers the request from the client to the web service and vice versa.  \n",
    "\n",
    "In the case of a web coverage service (WCS), multi-dimensional gridded data are stored on a server that is hosted by a data provider (e.g. ECMWF). With the help of a WCS , the data can be accessed and processed in an interoperable way. Service requests are HTTP (Hypertext Transfer Protocol) requests, which are used to transfer data via the internet. Thus, service requests are a URL that can easily be integrated into processing routines or scripts to build customized web-applications for decision-makers or end-users. See Figure below.\n",
    "\n",
    "A **Web Coverage Service** can be of great value, especially for scientists or developers who build applications and want to have access to large data volumes but do not want to store all the data on their local discs.  \n",
    "\n",
    "\n",
    "![WCS Service](img/WCS_graphic_small.jpg \"A WCS integrated into the common (web-based) data processing chain\")\n",
    "\n",
    "\n",
    "<center><i>Example how a Web Coverage Service can be integrated into a commen (web-based) data processing chain</i></center>\n",
    "***"
   ]
  },
  {
   "cell_type": "markdown",
   "metadata": {},
   "source": [
    "## What is OGC WC(P)S?"
   ]
  },
  {
   "cell_type": "markdown",
   "metadata": {},
   "source": [
    "The **Web Coverage Service (WCS)** is defined by the Open Geospatial Consortium (OGC) (2012) as:  \n",
    "\n",
    "> *The OGC WCS supports **electronic retrieval of geospatial data** as 'coverages' - that is, digital geospatial information representing space/time-varying phenomena.* \n",
    "\n",
    "  \n",
    "Therefore, WCS is a standard data-access protocol that defines and enables the web-based retrieval of multi-dimensional geospatial datasets. It provided access to the full range of geospatial data served from a web-server and allows for requesting only a subset of the data. A WCS support and trim operations, where either the data dimension (slice) or the data extent (trim) is reduced.\n",
    "\n",
    "Unlike Web Mapping Service (WMS), another widely-used OGC standard for geospatial datasets, which returns spatial data as an image or 'static map', WCS returns data in its raw form, which it's original semantics. This allows for further data processing and analysis or the building of web applications while at the same time the data volume transferred is minimised.  \n",
    "\n",
    "WCS and WCPS are **machine-to-machine interfaces** and therefore aimed at technical data users or developers, rather than at end users. \n",
    "\n"
   ]
  },
  {
   "cell_type": "markdown",
   "metadata": {},
   "source": [
    "### Three core WCS requests"
   ]
  },
  {
   "cell_type": "markdown",
   "metadata": {},
   "source": [
    "The WCS core supports three main HTTP requests (operations), which are submitted in the form of a URL:\n",
    "> the ** *GetCapabilities* ** request returns an XML document with information to the service and data provider and an overview of all the coverages (geospatial fields) available on the web server\n",
    "\n",
    ">> Example: <a href=\"http://earthserver.ecmwf.int/rasdaman/ows?service=WCS&version=2.0.11&request=GetCapabilities\" target=\"_blank\">http://earthserver.ecmwf.int/rasdaman/ows?service=WCS&version=2.0.11&request=GetCapabilities</a>"
   ]
  },
  {
   "cell_type": "markdown",
   "metadata": {},
   "source": [
    "> the ** *DescribeCoverage* ** request returns an XML document with metadata information of one specific coverage\n",
    ">> Example: get information about 2m air temperature coverage  \n",
    "<a href=\"http://earthserver.ecmwf.int/rasdaman/ows?service=WCS&version=2.0.11&request=DescribeCoverage&coverageId=temp2m\" target=\"_blank\">http://earthserver.ecmwf.int/rasdaman/ows?service=WCS&version=2.0.11&request=DescribeCoverage&coverageId=temp2m</a>"
   ]
  },
  {
   "cell_type": "markdown",
   "metadata": {},
   "source": [
    "> the ** *GetCoverage* ** request returns a full coverage encoded in a specified format, e.g GeoTiff, XML or netCDF\n",
    ">> Example: retrieve a 2D global field of 2m air temperature of 15 December 2013 in XML format  \n",
    "<a href='http://earthserver.ecmwf.int/rasdaman/ows?service=WCS&version=2.0.11&request=GetCoverage&coverageId=temp2m&subset=ansi(\"2013-12-15T00:00\")&format=application/gml+xml' target=\"_blank\">http://earthserver.ecmwf.int/rasdaman/ows?service=WCS&version=2.0.11&request=GetCoverage&coverageId=temp2m&subset=ansi(\"2013-12-15T00:00\")&format=application/gml+xml</a>"
   ]
  },
  {
   "cell_type": "markdown",
   "metadata": {},
   "source": [
    "### The processing extension WCPS"
   ]
  },
  {
   "cell_type": "markdown",
   "metadata": {},
   "source": [
    "A **Web Coverage Processing Service** is an extension supported by the WCS 2.0 core specification and can optionally be implemented by a WCS server. WCPS allows for crafting queries to be run on the data using a text based query language, similar to SQL.  \n",
    "The extension specifies an additional WCS request:  \n",
    "> the ***ProcessCoverages*** request returns a coverage encoded in a specified format (e.g. netCDF or csv) and allows for mathematical calculations on the requests coverages. \n",
    ">> Example: Convert a 2D field of 2m air temperature for Italy from 31 December 2015 from K to degC  \n",
    "<a href='http://earthserver.ecmwf.int/rasdaman/ows?service=WCS&version=2.0.1&request=ProcessCoverages&query=for c in (temp2m) return encode (c[Lat(35.4:47.1), Long(6.6:18.5),ansi(\"2015-12-31T00:00\")] - 273.15,\"csv\")' target=\"_blank\">http://earthserver.ecmwf.int/rasdaman/ows?service=WCS&version=2.0.1&request=ProcessCoverages&query=for c in (temp2m) return encode (c[Lat(35.4:47.1),Long(6.6:18.5),ansi(\"2015-12-31T00:00\")] - 273.15,\"csv\")</a>\n",
    "\n"
   ]
  },
  {
   "cell_type": "markdown",
   "metadata": {},
   "source": [
    "***"
   ]
  },
  {
   "cell_type": "markdown",
   "metadata": {},
   "source": [
    "You should have now a better understanding about the purpose of web services and the OGC Web Coverage Service in specific. The [next tutorial chapter](./02-WCS_core_requests.ipynb) will introduce you the basic setup of WCS core requests."
   ]
  },
  {
   "cell_type": "markdown",
   "metadata": {},
   "source": [
    "***"
   ]
  },
  {
   "cell_type": "markdown",
   "metadata": {},
   "source": [
    "&copy; 2017 ECMWF\n",
    "\n",
    "This software is licensed under the terms of the Apache Licence Version 2.0 which can be obtained at http://www.apache.org/licenses/LICENSE-2.0. In applying this licence, ECMWF does not waive the privileges and immunities granted to it by virtue of its status as an intergovernmental organisation nor\n",
    "does it submit to any jurisdiction."
   ]
  }
 ],
 "metadata": {
  "kernelspec": {
   "display_name": "Python 2",
   "language": "python",
   "name": "python2"
  },
  "language_info": {
   "codemirror_mode": {
    "name": "ipython",
    "version": 2
   },
   "file_extension": ".py",
   "mimetype": "text/x-python",
   "name": "python",
   "nbconvert_exporter": "python",
   "pygments_lexer": "ipython2",
   "version": "2.7.8"
  }
 },
 "nbformat": 4,
 "nbformat_minor": 0
}
